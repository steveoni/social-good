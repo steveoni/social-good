{
 "cells": [
  {
   "cell_type": "code",
   "execution_count": 1,
   "metadata": {},
   "outputs": [],
   "source": [
    "import pandas as pd"
   ]
  },
  {
   "cell_type": "code",
   "execution_count": 2,
   "metadata": {},
   "outputs": [],
   "source": [
    "df = pd.read_excel(open('social_good_data.xlsx','rb'))"
   ]
  },
  {
   "cell_type": "code",
   "execution_count": 3,
   "metadata": {},
   "outputs": [],
   "source": [
    "xl_file = pd.ExcelFile('social_good_data.xlsx')"
   ]
  },
  {
   "cell_type": "code",
   "execution_count": 4,
   "metadata": {},
   "outputs": [],
   "source": [
    "data = xl_file.parse('data')"
   ]
  },
  {
   "cell_type": "code",
   "execution_count": 183,
   "metadata": {},
   "outputs": [],
   "source": [
    "data2 = pd.DataFrame()"
   ]
  },
  {
   "cell_type": "code",
   "execution_count": 46,
   "metadata": {},
   "outputs": [],
   "source": [
    "def addp(x):\n",
    "    dt = {}\n",
    "    t = []\n",
    "    if x not in  dt:\n",
    "        dt[x] = 1\n",
    "        \n",
    "    dt[x] +=1\n",
    "    \n",
    "    for i in dt.keys():\n",
    "        t.append(dt[x])\n",
    "    \n",
    "    return t"
   ]
  },
  {
   "cell_type": "code",
   "execution_count": 134,
   "metadata": {},
   "outputs": [],
   "source": [
    "nationality = data[\"Nationality\"].dropna()\n",
    "nationality = nationality.values"
   ]
  },
  {
   "cell_type": "code",
   "execution_count": 147,
   "metadata": {},
   "outputs": [],
   "source": [
    "nationality = [nation.strip().lower() for nation in nationality]"
   ]
  },
  {
   "cell_type": "code",
   "execution_count": 12,
   "metadata": {},
   "outputs": [],
   "source": [
    "from collections import Counter"
   ]
  },
  {
   "cell_type": "code",
   "execution_count": 149,
   "metadata": {},
   "outputs": [],
   "source": [
    "d = Counter(nationality)"
   ]
  },
  {
   "cell_type": "code",
   "execution_count": 184,
   "metadata": {},
   "outputs": [],
   "source": [
    "nig_dict = ['nigerian','nigeria','10 nigeria','nigerians','nigeriaa','nigeran']\n",
    "ben_dict = [\"benin-republic\",\"benin republic\",\"beneu republic\",\"benue republic\",\"\"]\n",
    "gh_dict = [\"ghanian\",\"ghana\"]\n",
    "cotounu_dict = [\"cotounu\",\"cotonou\",\"osntoun\",\"contenue\",\"cotonun\",\"coutonou\",\"coutonu\",\"contounu\"]\n",
    "togo_dict = [\"togo\",\"togonise\",\"togolese\"]\n",
    "\n",
    "count = {\"nigeria\":0,\"benin-republic\":0,\"cotounu\":0,\"ghana\":0,\"togo\":0}\n",
    "for key,val in d.items():\n",
    "    \n",
    "    if \"/\" in key:\n",
    "        key = key.split(\"/\")[0].strip()\n",
    "        \n",
    "    if key in nig_dict:\n",
    "        count[\"nigeria\"] += val\n",
    "        \n",
    "    elif key in ben_dict:\n",
    "        count[\"benin-republic\"] +=val\n",
    "        \n",
    "    elif key in gh_dict:\n",
    "        count[\"ghana\"] += val\n",
    "        \n",
    "    elif key in cotounu_dict:\n",
    "        count[\"cotounu\"] +=val\n",
    "        \n",
    "    elif key in togo_dict:\n",
    "        count[\"togo\"] +=val\n",
    "        \n",
    "    elif key ==\"chadian\":\n",
    "        count[\"chad\"] =val\n",
    "        \n",
    "    elif key ==\"malian\":\n",
    "        count[\"malia\"] = val\n",
    "        \n",
    "    else:\n",
    "        count[key] = val"
   ]
  },
  {
   "cell_type": "code",
   "execution_count": 185,
   "metadata": {},
   "outputs": [],
   "source": [
    "nationality = list()\n",
    "na_count = list()\n",
    "\n",
    "for key,val in count.items():\n",
    "    \n",
    "    nationality.append(key)\n",
    "    na_count.append(val)\n",
    "    \n",
    "data2[\"nationality\"] = nationality\n"
   ]
  },
  {
   "cell_type": "code",
   "execution_count": 186,
   "metadata": {},
   "outputs": [],
   "source": [
    "data2[\"count\"] = na_count"
   ]
  },
  {
   "cell_type": "code",
   "execution_count": 189,
   "metadata": {},
   "outputs": [],
   "source": [
    "data2.to_csv(\"nationality_count.csv\",index=None)"
   ]
  },
  {
   "cell_type": "code",
   "execution_count": 190,
   "metadata": {},
   "outputs": [],
   "source": [
    "#Parent/Guardian/marriage_status"
   ]
  },
  {
   "cell_type": "code",
   "execution_count": 241,
   "metadata": {},
   "outputs": [],
   "source": [
    "parent_guard = data[\"Parent/Guardian Status\"].dropna()\n",
    "guardian_type = data[\"Guardian Type\"].dropna()"
   ]
  },
  {
   "cell_type": "code",
   "execution_count": 242,
   "metadata": {},
   "outputs": [],
   "source": [
    "parent_guard =[parent.strip().lower() for parent in parent_guard.values]\n",
    "guardian_type = [guardian_type.strip().lower() for guardian_type in guardian_type.values]"
   ]
  },
  {
   "cell_type": "code",
   "execution_count": 243,
   "metadata": {},
   "outputs": [],
   "source": [
    "parent_guard = Counter(parent_guard)\n",
    "guardian_type = Counter(guardian_type)"
   ]
  },
  {
   "cell_type": "code",
   "execution_count": 244,
   "metadata": {},
   "outputs": [
    {
     "data": {
      "text/plain": [
       "Counter({'maried': 1,\n",
       "         'married': 413,\n",
       "         'single': 266,\n",
       "         'single parent': 77,\n",
       "         'parent': 8,\n",
       "         'guardian single': 1,\n",
       "         'maarried': 1,\n",
       "         'single parents': 1,\n",
       "         '`single parent': 1})"
      ]
     },
     "execution_count": 244,
     "metadata": {},
     "output_type": "execute_result"
    }
   ],
   "source": [
    "#check what parent_quard entails\n",
    "parent_guard"
   ]
  },
  {
   "cell_type": "code",
   "execution_count": 266,
   "metadata": {},
   "outputs": [],
   "source": [
    "m_dict = [\"maried\",\"married\",\"maaried\",\"parent\"]\n",
    "s_dict = [\"single\",\"single parent\", \"guardian single\",'single parents',' single parent']\n",
    "\n",
    "p_guard = {\"married\":0,\"single\":0}\n",
    "\n",
    "for key,val in parent_guard.items():\n",
    "    \n",
    "    if key in m_dict:\n",
    "        p_guard[\"married\"] += val\n",
    "        \n",
    "    else:\n",
    "        p_guard[\"single\"] +=val"
   ]
  },
  {
   "cell_type": "code",
   "execution_count": 267,
   "metadata": {},
   "outputs": [],
   "source": [
    "parent_guarddata = pd.DataFrame()"
   ]
  },
  {
   "cell_type": "code",
   "execution_count": 268,
   "metadata": {},
   "outputs": [],
   "source": [
    "parent_guarddata[\"status\"] = [i for i in p_guard.keys()]"
   ]
  },
  {
   "cell_type": "code",
   "execution_count": 269,
   "metadata": {},
   "outputs": [],
   "source": [
    "parent_guarddata[\"status_count\"] = [i for i in p_guard.values()]"
   ]
  },
  {
   "cell_type": "code",
   "execution_count": 270,
   "metadata": {},
   "outputs": [],
   "source": [
    "parent_guarddata[\"parent_guard\"] = [i for i in guardian_type.keys()]\n",
    "parent_guarddata[\"pg_count\"] = [i for i in guardian_type.values()]"
   ]
  },
  {
   "cell_type": "code",
   "execution_count": 271,
   "metadata": {},
   "outputs": [
    {
     "data": {
      "text/html": [
       "<div>\n",
       "<style scoped>\n",
       "    .dataframe tbody tr th:only-of-type {\n",
       "        vertical-align: middle;\n",
       "    }\n",
       "\n",
       "    .dataframe tbody tr th {\n",
       "        vertical-align: top;\n",
       "    }\n",
       "\n",
       "    .dataframe thead th {\n",
       "        text-align: right;\n",
       "    }\n",
       "</style>\n",
       "<table border=\"1\" class=\"dataframe\">\n",
       "  <thead>\n",
       "    <tr style=\"text-align: right;\">\n",
       "      <th></th>\n",
       "      <th>status</th>\n",
       "      <th>status_count</th>\n",
       "      <th>parent_guard</th>\n",
       "      <th>pg_count</th>\n",
       "    </tr>\n",
       "  </thead>\n",
       "  <tbody>\n",
       "    <tr>\n",
       "      <th>0</th>\n",
       "      <td>married</td>\n",
       "      <td>422</td>\n",
       "      <td>parent</td>\n",
       "      <td>668</td>\n",
       "    </tr>\n",
       "    <tr>\n",
       "      <th>1</th>\n",
       "      <td>single</td>\n",
       "      <td>347</td>\n",
       "      <td>guardian</td>\n",
       "      <td>117</td>\n",
       "    </tr>\n",
       "  </tbody>\n",
       "</table>\n",
       "</div>"
      ],
      "text/plain": [
       "    status  status_count parent_guard  pg_count\n",
       "0  married           422       parent       668\n",
       "1   single           347     guardian       117"
      ]
     },
     "execution_count": 271,
     "metadata": {},
     "output_type": "execute_result"
    }
   ],
   "source": [
    "parent_guarddata"
   ]
  },
  {
   "cell_type": "code",
   "execution_count": 274,
   "metadata": {},
   "outputs": [],
   "source": [
    "parent_guarddata.to_csv(\"parent_info.csv\",index=None)"
   ]
  },
  {
   "cell_type": "code",
   "execution_count": 5,
   "metadata": {},
   "outputs": [
    {
     "name": "stdout",
     "output_type": "stream",
     "text": [
      "Cloning into 'word_cloud'...\n",
      "remote: Enumerating objects: 258, done.\u001b[K\n",
      "remote: Counting objects: 100% (258/258), done.\u001b[K\n",
      "remote: Compressing objects: 100% (149/149), done.\u001b[K\n",
      "remote: Total 3333 (delta 119), reused 201 (delta 92), pack-reused 3075\u001b[K\n",
      "Receiving objects: 100% (3333/3333), 64.60 MiB | 123.00 KiB/s, done.\n",
      "Resolving deltas: 100% (1802/1802), done.\n"
     ]
    }
   ],
   "source": [
    "#install word cloud\n",
    "!git clone https://github.com/amueller/word_cloud.git"
   ]
  },
  {
   "cell_type": "code",
   "execution_count": 6,
   "metadata": {},
   "outputs": [],
   "source": [
    "!cd word_cloud"
   ]
  },
  {
   "cell_type": "code",
   "execution_count": 7,
   "metadata": {},
   "outputs": [
    {
     "name": "stdout",
     "output_type": "stream",
     "text": [
      "\u001b[31mDirectory '.' is not installable. File 'setup.py' not found.\u001b[0m\n",
      "\u001b[33mCache entry deserialization failed, entry ignored\u001b[0m\n",
      "\u001b[33mYou are using pip version 18.0, however version 18.1 is available.\n",
      "You should consider upgrading via the 'pip install --upgrade pip' command.\u001b[0m\n"
     ]
    }
   ],
   "source": [
    "!pip install ."
   ]
  },
  {
   "cell_type": "code",
   "execution_count": 13,
   "metadata": {},
   "outputs": [],
   "source": [
    "#guardian typepe\n",
    "\n",
    "guard_type = data[\"Guardian Relationship Type\"].dropna()\n",
    "\n",
    "guard_type = [guard.strip().lower() for guard in guard_type.values]"
   ]
  },
  {
   "cell_type": "code",
   "execution_count": 15,
   "metadata": {},
   "outputs": [],
   "source": [
    "guard_type_count = Counter(guard_type)"
   ]
  },
  {
   "cell_type": "code",
   "execution_count": 16,
   "metadata": {},
   "outputs": [
    {
     "data": {
      "text/plain": [
       "Counter({'relative': 90, 'non relative': 7, 'father': 21, 'mother': 33})"
      ]
     },
     "execution_count": 16,
     "metadata": {},
     "output_type": "execute_result"
    }
   ],
   "source": [
    "guard_type_count"
   ]
  },
  {
   "cell_type": "code",
   "execution_count": 20,
   "metadata": {},
   "outputs": [],
   "source": [
    "guard_type_df = pd.DataFrame()\n",
    "guard_type_df[\"Type\"] = [g_type for g_type in guard_type_count.keys()]\n",
    "guard_type_df[\"count\"] = [count for count in guard_type_count.values()]"
   ]
  },
  {
   "cell_type": "code",
   "execution_count": 22,
   "metadata": {},
   "outputs": [],
   "source": [
    "guard_type_df.to_csv(\"guard_type.csv\",index=None)"
   ]
  },
  {
   "cell_type": "code",
   "execution_count": 24,
   "metadata": {},
   "outputs": [],
   "source": [
    "#employment mother\n",
    "\n",
    "emp_mother = data[\"Employment Type - Mother\"].dropna()\n",
    "emp_father= data[\"Employment Type - Father\"].dropna()\n",
    "emp_Guardian = data[\"Employment Type - Guardian\"].dropna()"
   ]
  },
  {
   "cell_type": "code",
   "execution_count": 25,
   "metadata": {},
   "outputs": [],
   "source": [
    "guardian_emp = pd.concat([emp_mother,emp_father,emp_Guardian])"
   ]
  },
  {
   "cell_type": "code",
   "execution_count": 29,
   "metadata": {},
   "outputs": [],
   "source": [
    "guardian_emp_count = Counter(guardian_emp.values)"
   ]
  },
  {
   "cell_type": "code",
   "execution_count": 30,
   "metadata": {},
   "outputs": [
    {
     "data": {
      "text/plain": [
       "Counter({'Self Employed': 547,\n",
       "         'Unemployed': 278,\n",
       "         'Employed': 185,\n",
       "         'STUDENT': 1,\n",
       "         ' Employed': 1,\n",
       "         'Trader': 1,\n",
       "         'DRIVER': 1,\n",
       "         '`': 1,\n",
       "         'Business': 1})"
      ]
     },
     "execution_count": 30,
     "metadata": {},
     "output_type": "execute_result"
    }
   ],
   "source": [
    "guardian_emp_count"
   ]
  },
  {
   "cell_type": "code",
   "execution_count": 31,
   "metadata": {},
   "outputs": [],
   "source": [
    "employed = [\"Employed\",\" Employed\",\"DRIVER\",\"Business\"]\n",
    "Unemployed = [\"Unemployed\",\"STUDENT\"]\n",
    "self_employ = [\"Self Employed\",\"Trader\"]\n",
    "\n",
    "guard_emp_count = {\"employed\":0,\"unemployed\":0,\"self_employed\":0}\n",
    "\n",
    "for key,val in guardian_emp_count.items():\n",
    "    \n",
    "    if key in employed:\n",
    "        guard_emp_count[\"employed\"] +=val\n",
    "        \n",
    "    elif key in Unemployed:\n",
    "        guard_emp_count[\"unemployed\"] +=val\n",
    "        \n",
    "    elif key in self_employ:\n",
    "        guard_emp_count[\"self_employed\"] +=val"
   ]
  },
  {
   "cell_type": "code",
   "execution_count": 32,
   "metadata": {},
   "outputs": [
    {
     "data": {
      "text/plain": [
       "{'employed': 188, 'unemployed': 279, 'self_employed': 548}"
      ]
     },
     "execution_count": 32,
     "metadata": {},
     "output_type": "execute_result"
    }
   ],
   "source": [
    "guard_emp_count"
   ]
  },
  {
   "cell_type": "code",
   "execution_count": 33,
   "metadata": {},
   "outputs": [],
   "source": [
    "guard_emp_df = pd.DataFrame()\n",
    "guard_emp_df[\"employment\"] = [g_type for g_type in guard_emp_count.keys()]\n",
    "guard_emp_df[\"count\"] = [count for count in guard_emp_count.values()]"
   ]
  },
  {
   "cell_type": "code",
   "execution_count": 36,
   "metadata": {},
   "outputs": [],
   "source": [
    "guard_emp_df.to_csv(\"guard_emp.csv\",index=None)"
   ]
  },
  {
   "cell_type": "code",
   "execution_count": 38,
   "metadata": {},
   "outputs": [
    {
     "name": "stdout",
     "output_type": "stream",
     "text": [
      "Collecting wordcloud\n",
      "\u001b[?25l  Downloading https://files.pythonhosted.org/packages/ae/af/849edf14d573eba9c8082db898ff0d090428d9485371cc4fe21a66717ad2/wordcloud-1.5.0-cp36-cp36m-manylinux1_x86_64.whl (361kB)\n",
      "\u001b[K    100% |████████████████████████████████| 368kB 126kB/s \n",
      "\u001b[?25hRequirement already satisfied: pillow in /usr/lib/python3/dist-packages (from wordcloud) (5.1.0)\n",
      "Requirement already satisfied: numpy>=1.6.1 in /home/longbridge/tensorflow3/venv3/lib/python3.6/site-packages (from wordcloud) (1.14.5)\n",
      "Installing collected packages: wordcloud\n",
      "Successfully installed wordcloud-1.5.0\n",
      "\u001b[33mYou are using pip version 18.0, however version 18.1 is available.\n",
      "You should consider upgrading via the 'pip install --upgrade pip' command.\u001b[0m\n"
     ]
    }
   ],
   "source": [
    "!pip install wordcloud"
   ]
  },
  {
   "cell_type": "code",
   "execution_count": 39,
   "metadata": {},
   "outputs": [],
   "source": [
    "import wordcloud"
   ]
  },
  {
   "cell_type": "code",
   "execution_count": 40,
   "metadata": {},
   "outputs": [],
   "source": [
    "edu_mother = data[\"Education - Mother\"].dropna()\n",
    "mother_job_type = data[\"Education-Mother_Job Type\"].dropna()\n",
    "edu_father = data[\"Education - Father\"].dropna()\n",
    "edu_father_type = data[\"Education-Father_Job Type\"].dropna()\n",
    "edu_guard = data[\"Education - Guardian\"].dropna()\n",
    "edu_guard_type = data[\"Education-Guardian_Job Type\"].dropna()"
   ]
  },
  {
   "cell_type": "code",
   "execution_count": 41,
   "metadata": {},
   "outputs": [],
   "source": [
    "edu_df = pd.concat([edu_mother,mother_job_type,edu_father,edu_father_type,edu_guard,edu_guard_type])"
   ]
  },
  {
   "cell_type": "code",
   "execution_count": 76,
   "metadata": {},
   "outputs": [],
   "source": [
    "word_text = \" \\n\".join(edu_df.values)"
   ]
  },
  {
   "cell_type": "code",
   "execution_count": 96,
   "metadata": {},
   "outputs": [],
   "source": [
    "word = \" \\n\".join(pd.concat([edu_mother,edu_father,edu_guard]).values)"
   ]
  },
  {
   "cell_type": "code",
   "execution_count": 97,
   "metadata": {},
   "outputs": [],
   "source": [
    "from wordcloud import WordCloud, STOPWORDS, ImageColorGenerator\n",
    "\n",
    "wordcloud = WordCloud(max_font_size=50).generate(word)"
   ]
  },
  {
   "cell_type": "code",
   "execution_count": 98,
   "metadata": {},
   "outputs": [
    {
     "data": {
      "text/plain": [
       "(-0.5, 399.5, 199.5, -0.5)"
      ]
     },
     "execution_count": 98,
     "metadata": {},
     "output_type": "execute_result"
    },
    {
     "data": {
      "image/png": "[encoded data removed]",
      "text/plain": [
       "<Figure size 432x288 with 1 Axes>"
      ]
     },
     "metadata": {},
     "output_type": "display_data"
    }
   ],
   "source": [
    "import matplotlib.pyplot as plt\n",
    "plt.imshow(wordcloud, interpolation='bilinear')\n",
    "plt.axis(\"off\")\n",
    "\n",
    "# # lower max_font_size\n",
    "# wordcloud = WordCloud(max_font_size=50, max_words=100, background_color=\"black\").generate(word_text)\n",
    "# plt.figure()\n",
    "# plt.imshow(wordcloud, interpolation=\"bilinear\")\n",
    "# plt.axis(\"off\")\n",
    "# plt.show()"
   ]
  },
  {
   "cell_type": "code",
   "execution_count": 95,
   "metadata": {},
   "outputs": [
    {
     "data": {
      "text/plain": [
       "<wordcloud.wordcloud.WordCloud at 0x7f2afd9c1358>"
      ]
     },
     "execution_count": 95,
     "metadata": {},
     "output_type": "execute_result"
    }
   ],
   "source": [
    "wordcloud.to_file(\"socio_emp.png\")"
   ]
  },
  {
   "cell_type": "code",
   "execution_count": 83,
   "metadata": {},
   "outputs": [
    {
     "data": {
      "image/png": "[encoded data removed]",
      "text/plain": [
       "<Figure size 432x288 with 1 Axes>"
      ]
     },
     "metadata": {},
     "output_type": "display_data"
    }
   ],
   "source": [
    "stopwords = set(STOPWORDS)\n",
    "stopwords.update([\" \"])\n",
    "\n",
    "wordcloud = WordCloud(stopwords=stopwords, background_color=\"black\",width=600,height=400,scale=10).generate(word_text)\n",
    "\n",
    "plt.imshow(wordcloud, interpolation='bilinear')\n",
    "plt.axis(\"off\")\n",
    "plt.show()"
   ]
  },
  {
   "cell_type": "code",
   "execution_count": 82,
   "metadata": {},
   "outputs": [
    {
     "data": {
      "text/plain": [
       "<wordcloud.wordcloud.WordCloud at 0x7f2abfaab390>"
      ]
     },
     "execution_count": 82,
     "metadata": {},
     "output_type": "execute_result"
    }
   ],
   "source": [
    "wordcloud.to_file(\"socio_good4.png\")"
   ]
  },
  {
   "cell_type": "code",
   "execution_count": 66,
   "metadata": {},
   "outputs": [],
   "source": [
    "import numpy as np\n",
    "from PIL import Image"
   ]
  },
  {
   "cell_type": "code",
   "execution_count": 84,
   "metadata": {},
   "outputs": [],
   "source": [
    "im_mask = np.array(Image.open(\"index.png\"))\n"
   ]
  },
  {
   "cell_type": "code",
   "execution_count": 68,
   "metadata": {},
   "outputs": [],
   "source": [
    "def transform_format(val):\n",
    "    if val == 0:\n",
    "        return 255\n",
    "    else:\n",
    "        return val"
   ]
  },
  {
   "cell_type": "code",
   "execution_count": 88,
   "metadata": {},
   "outputs": [],
   "source": [
    "wc = WordCloud(background_color=\"black\", max_words=2000, mask=im_mask,stopwords=stopwords, contour_width=3, contour_color='steelblue')"
   ]
  },
  {
   "cell_type": "code",
   "execution_count": 89,
   "metadata": {},
   "outputs": [
    {
     "data": {
      "image/png": "[encoded data removed]",
      "text/plain": [
       "<Figure size 432x288 with 1 Axes>"
      ]
     },
     "metadata": {},
     "output_type": "display_data"
    },
    {
     "data": {
      "image/png": "[encoded data removed]",
      "text/plain": [
       "<Figure size 432x288 with 1 Axes>"
      ]
     },
     "metadata": {},
     "output_type": "display_data"
    }
   ],
   "source": [
    "wc.generate(word_text)\n",
    "wc.to_file(\"alice.png\")\n",
    "\n",
    "# show\n",
    "plt.imshow(wc, interpolation='bilinear')\n",
    "plt.axis(\"off\")\n",
    "plt.figure()\n",
    "plt.imshow(im_mask, cmap=plt.cm.gray, interpolation='bilinear')\n",
    "plt.axis(\"off\")\n",
    "plt.show()"
   ]
  },
  {
   "cell_type": "code",
   "execution_count": 138,
   "metadata": {},
   "outputs": [],
   "source": [
    "def f(x):\n",
    "    if x==\"Money Lack\":\n",
    "        return \"Money\"\n",
    "    elif x==\"Lack Money\":\n",
    "        return \"Money\"\n",
    "    else :\n",
    "        return x"
   ]
  },
  {
   "cell_type": "code",
   "execution_count": 159,
   "metadata": {},
   "outputs": [],
   "source": [
    "#reason for not be in school\n",
    "\n",
    "child5_reason = data[\"Child 5 - Reason for not Being in School\"].dropna()\n",
    "chil5_reason =  child5_reason.apply(lambda x: x if len(x) < 20 else \" \")\n",
    "\n",
    "child4_reason = data[\"Child 5 - Reason for not Being in School\"].dropna()\n",
    "chil4_reason =  child4_reason.apply(lambda x: x if len(x) < 20 else \" \")\n",
    "\n",
    "child4_otherReason = data[\"Child 4 - Other Reason\"].dropna()\n",
    "child4_otherReason =  child4_otherReason.apply(lambda x: x if len(x) < 20 else \" \")\n",
    "\n",
    "child3_reason = data[\"Child 3 - Reason for not Being in School\"].dropna()\n",
    "chil3_reason =  child3_reason.apply(lambda x: x if len(x) < 20 else \" \")\n",
    "\n",
    "child3_otherReason = data[\"Child 3 - Other Reason\"].dropna()\n",
    "child3_otherReason =  child3_otherReason.apply(lambda x: x if len(x) < 20 else \" \")\n",
    "\n",
    "child2_reason = data[\"Child 2 - Reason for not Being in School\"].dropna()\n",
    "chil2_reason =  child2_reason.apply(lambda x: x if len(x) < 20 else \" \")\n",
    "\n",
    "child2_otherReason = data[\"Child 2 - Other Reasons\"].dropna()\n",
    "child2_otherReason =  child2_otherReason.apply(lambda x: x if len(x) < 20 else \" \")\n",
    "\n",
    "child1_reason = data[\"Child 1 - Reason for not Being in School\"].dropna()\n",
    "chil1_reason =  child4_reason.apply(lambda x: x if len(x) < 20 else \" \")\n",
    "\n",
    "child1_otherReason = data[\"Child 1 - Other Reasons\"].dropna()\n",
    "child1_otherReason =  child1_otherReason.apply(lambda x: x if len(x) < 20 else \" \")\n"
   ]
  },
  {
   "cell_type": "code",
   "execution_count": 160,
   "metadata": {},
   "outputs": [],
   "source": [
    "reason_df = pd.concat([child5_reason,child4_reason,child4_otherReason,child3_reason,child3_otherReason,\n",
    "                      child2_reason,child2_otherReason,child1_reason,child1_otherReason])"
   ]
  },
  {
   "cell_type": "code",
   "execution_count": 161,
   "metadata": {},
   "outputs": [],
   "source": [
    "f = []\n",
    "\n",
    "for x in reason_df.values:\n",
    "    if x.lower()==\"money of lack\":\n",
    "        f.append(\"Money\")\n",
    "    elif x.lower()==\"lack of money\":\n",
    "        f.append(\"Money\")\n",
    "        \n",
    "    else:\n",
    "        f.append(x)"
   ]
  },
  {
   "cell_type": "code",
   "execution_count": 162,
   "metadata": {},
   "outputs": [],
   "source": [
    "rsn_df = f"
   ]
  },
  {
   "cell_type": "code",
   "execution_count": 163,
   "metadata": {},
   "outputs": [],
   "source": [
    "word_r = \" \\n\".join(rsn_df)"
   ]
  },
  {
   "cell_type": "code",
   "execution_count": 168,
   "metadata": {},
   "outputs": [
    {
     "data": {
      "text/plain": [
       "(-0.5, 399.5, 199.5, -0.5)"
      ]
     },
     "execution_count": 168,
     "metadata": {},
     "output_type": "execute_result"
    },
    {
     "data": {
      "image/png": "[encoded data removed]",
      "text/plain": [
       "<Figure size 432x288 with 1 Axes>"
      ]
     },
     "metadata": {},
     "output_type": "display_data"
    }
   ],
   "source": [
    "wordcloud = WordCloud(max_font_size=70).generate(word_r)\n",
    "plt.imshow(wordcloud, interpolation='bilinear')\n",
    "plt.axis(\"off\")"
   ]
  },
  {
   "cell_type": "code",
   "execution_count": 169,
   "metadata": {},
   "outputs": [
    {
     "data": {
      "text/plain": [
       "<wordcloud.wordcloud.WordCloud at 0x7f2abf8f2780>"
      ]
     },
     "execution_count": 169,
     "metadata": {},
     "output_type": "execute_result"
    }
   ],
   "source": [
    "wordcloud.to_file(\"reason5.png\")"
   ]
  },
  {
   "cell_type": "code",
   "execution_count": 619,
   "metadata": {},
   "outputs": [],
   "source": [
    "data2 = data.copy()"
   ]
  },
  {
   "cell_type": "code",
   "execution_count": 620,
   "metadata": {},
   "outputs": [],
   "source": [
    "es_data = data2[\"Estate Name\"]\n",
    "street_data = data2[\"Street Name\"]\n",
    "house_type = data2[\"House Type\"]\n",
    "years = data2[\"How Long have you lived in this Community\"]"
   ]
  },
  {
   "cell_type": "code",
   "execution_count": 621,
   "metadata": {},
   "outputs": [],
   "source": [
    "dt2 = pd.concat([es_data,street_data,house_type,years],axis=1)"
   ]
  },
  {
   "cell_type": "code",
   "execution_count": 622,
   "metadata": {},
   "outputs": [],
   "source": [
    "s = []\n",
    "dat1 = zip(dt2[\"Estate Name\"],dt2[\"Street Name\"])\n",
    "for i,x in enumerate(dat1):\n",
    "    \n",
    "    if x[0]==\"Aro Town\" and str(x[1])==\"nan\":\n",
    "        dt2[\"Street Name\"][i] = \"Aro Street\""
   ]
  },
  {
   "cell_type": "code",
   "execution_count": 623,
   "metadata": {},
   "outputs": [],
   "source": [
    "drop_data = dt2.dropna()"
   ]
  },
  {
   "cell_type": "code",
   "execution_count": 624,
   "metadata": {},
   "outputs": [
    {
     "name": "stderr",
     "output_type": "stream",
     "text": [
      "/home/longbridge/tensorflow3/venv3/lib/python3.6/site-packages/pandas/core/frame.py:3781: SettingWithCopyWarning: \n",
      "A value is trying to be set on a copy of a slice from a DataFrame\n",
      "\n",
      "See the caveats in the documentation: http://pandas.pydata.org/pandas-docs/stable/indexing.html#indexing-view-versus-copy\n",
      "  return super(DataFrame, self).rename(**kwargs)\n"
     ]
    }
   ],
   "source": [
    "drop_data.rename(columns={\"How Long have you lived in this Community\":\"HLC\"},inplace=True)"
   ]
  },
  {
   "cell_type": "code",
   "execution_count": 625,
   "metadata": {},
   "outputs": [],
   "source": [
    "dropdt = dt2.dropna()"
   ]
  },
  {
   "cell_type": "code",
   "execution_count": 626,
   "metadata": {},
   "outputs": [
    {
     "data": {
      "text/plain": [
       "0        29 Yrs\n",
       "1         6 Yrs\n",
       "2         2 Yrs\n",
       "3      6 Months\n",
       "4      9 months\n",
       "5             2\n",
       "6         8 Yrs\n",
       "7         2 Yrs\n",
       "9         2 Yrs\n",
       "10      20+ Yrs\n",
       "12         2017\n",
       "13        6 Yrs\n",
       "14            0\n",
       "16      3 years\n",
       "17        9 Yrs\n",
       "20       17 Yrs\n",
       "21     3 months\n",
       "22        9 yrs\n",
       "27        4 Yrs\n",
       "32        8 Yrs\n",
       "34        3 Yrs\n",
       "35          Nil\n",
       "36       10 Yrs\n",
       "37        6 Yrs\n",
       "38         1 Yr\n",
       "40         1 Yr\n",
       "41       44 Yrs\n",
       "42        5 Yrs\n",
       "43      2 Years\n",
       "44        2 Yrs\n",
       "         ...   \n",
       "748    25 Years\n",
       "749     5 Years\n",
       "750     2 Years\n",
       "753     3 Years\n",
       "759    3 Months\n",
       "760     5 Years\n",
       "761     5 Years\n",
       "762     4 Years\n",
       "764     1 Month\n",
       "772    18 years\n",
       "773    18 years\n",
       "774     1 month\n",
       "775    12 years\n",
       "776      1 year\n",
       "777     6 Years\n",
       "778     4 years\n",
       "779     2 years\n",
       "780     2 years\n",
       "781     2 years\n",
       "782     6 years\n",
       "786    13 years\n",
       "787    16 years\n",
       "788    18 years\n",
       "789    12 years\n",
       "790     2 years\n",
       "791     2 years\n",
       "792     4 years\n",
       "793     3 years\n",
       "797     4 years\n",
       "800    10 years\n",
       "Name: HLC, Length: 477, dtype: object"
      ]
     },
     "execution_count": 626,
     "metadata": {},
     "output_type": "execute_result"
    }
   ],
   "source": [
    "drop_data[\"HLC\"]"
   ]
  },
  {
   "cell_type": "code",
   "execution_count": 627,
   "metadata": {},
   "outputs": [],
   "source": [
    "import re\n",
    "\n",
    "mon = re.compile(\"\\d{1,2}(\\s+?)(month|MONTHS|Month|Months|months)\")\n",
    "year = re.compile(\"^(\\d{4})$\")\n",
    "m_y = re.compile(\"\\d{1,4}(\\s+?)(year|Yrs|YEAR|Years|yrs|Yr|Year|yr|yrs|Yrs)\")\n",
    "m_py = re.compile(\"\\d{1,2}(%s)\"% re.escape('+Yrs'))\n",
    "s_d = re.compile(\"\\d{1}-\\d{1}(\\s*?)(\\w)\")\n",
    "d_d = re.compile(\"\\d{1}(.)\\d{1}(\\s*?)(\\w)\")\n",
    "a_d = re.compile(\"\\d{1,2}([^-\\s])(\\w+?)$\")\n",
    "w_d = re.compile(\"(Since Birth|For a long time|Forever)\")"
   ]
  },
  {
   "cell_type": "code",
   "execution_count": 628,
   "metadata": {},
   "outputs": [
    {
     "name": "stdout",
     "output_type": "stream",
     "text": [
      "29 Yrs\n",
      "29\n",
      "6 Yrs\n",
      "6\n",
      "2 Yrs\n",
      "2\n"
     ]
    },
    {
     "name": "stderr",
     "output_type": "stream",
     "text": [
      "/home/longbridge/tensorflow3/venv3/lib/python3.6/site-packages/IPython/core/interactiveshell.py:2961: SettingWithCopyWarning: \n",
      "A value is trying to be set on a copy of a slice from a DataFrame\n",
      "\n",
      "See the caveats in the documentation: http://pandas.pydata.org/pandas-docs/stable/indexing.html#indexing-view-versus-copy\n",
      "  exec(code_obj, self.user_global_ns, self.user_ns)\n"
     ]
    },
    {
     "name": "stdout",
     "output_type": "stream",
     "text": [
      "8 Yrs\n",
      "8\n",
      "2 Yrs\n",
      "2\n",
      "2 Yrs\n",
      "2\n"
     ]
    },
    {
     "name": "stderr",
     "output_type": "stream",
     "text": [
      "/home/longbridge/tensorflow3/venv3/lib/python3.6/site-packages/pandas/core/series.py:915: SettingWithCopyWarning: \n",
      "A value is trying to be set on a copy of a slice from a DataFrame\n",
      "\n",
      "See the caveats in the documentation: http://pandas.pydata.org/pandas-docs/stable/indexing.html#indexing-view-versus-copy\n",
      "  self.loc[key] = value\n",
      "/home/longbridge/tensorflow3/venv3/lib/python3.6/site-packages/ipykernel_launcher.py:33: SettingWithCopyWarning: \n",
      "A value is trying to be set on a copy of a slice from a DataFrame\n",
      "\n",
      "See the caveats in the documentation: http://pandas.pydata.org/pandas-docs/stable/indexing.html#indexing-view-versus-copy\n",
      "/home/longbridge/tensorflow3/venv3/lib/python3.6/site-packages/ipykernel_launcher.py:11: SettingWithCopyWarning: \n",
      "A value is trying to be set on a copy of a slice from a DataFrame\n",
      "\n",
      "See the caveats in the documentation: http://pandas.pydata.org/pandas-docs/stable/indexing.html#indexing-view-versus-copy\n",
      "  # This is added back by InteractiveShellApp.init_path()\n"
     ]
    },
    {
     "name": "stdout",
     "output_type": "stream",
     "text": [
      "6 Yrs\n",
      "6\n",
      "3 years\n",
      "3\n"
     ]
    },
    {
     "name": "stderr",
     "output_type": "stream",
     "text": [
      "/home/longbridge/tensorflow3/venv3/lib/python3.6/site-packages/ipykernel_launcher.py:17: SettingWithCopyWarning: \n",
      "A value is trying to be set on a copy of a slice from a DataFrame\n",
      "\n",
      "See the caveats in the documentation: http://pandas.pydata.org/pandas-docs/stable/indexing.html#indexing-view-versus-copy\n",
      "/home/longbridge/tensorflow3/venv3/lib/python3.6/site-packages/ipykernel_launcher.py:26: SettingWithCopyWarning: \n",
      "A value is trying to be set on a copy of a slice from a DataFrame\n",
      "\n",
      "See the caveats in the documentation: http://pandas.pydata.org/pandas-docs/stable/indexing.html#indexing-view-versus-copy\n"
     ]
    },
    {
     "name": "stdout",
     "output_type": "stream",
     "text": [
      "9 Yrs\n",
      "9\n",
      "17 Yrs\n",
      "17\n"
     ]
    },
    {
     "name": "stderr",
     "output_type": "stream",
     "text": [
      "/home/longbridge/tensorflow3/venv3/lib/python3.6/site-packages/ipykernel_launcher.py:7: SettingWithCopyWarning: \n",
      "A value is trying to be set on a copy of a slice from a DataFrame\n",
      "\n",
      "See the caveats in the documentation: http://pandas.pydata.org/pandas-docs/stable/indexing.html#indexing-view-versus-copy\n",
      "  import sys\n"
     ]
    },
    {
     "name": "stdout",
     "output_type": "stream",
     "text": [
      "9 yrs\n",
      "9\n",
      "4 Yrs\n",
      "4\n",
      "8 Yrs\n",
      "8\n",
      "3 Yrs\n",
      "3\n",
      "10 Yrs\n",
      "10\n",
      "6 Yrs\n",
      "6\n",
      "1 Yr\n",
      "1\n",
      "1 Yr\n",
      "1\n",
      "44 Yrs\n",
      "44\n",
      "5 Yrs\n",
      "5\n",
      "2 Years\n",
      "2\n",
      "2 Yrs\n",
      "2\n",
      "21 Yrs\n",
      "21\n",
      "25 Years\n",
      "25\n"
     ]
    },
    {
     "name": "stderr",
     "output_type": "stream",
     "text": [
      "/home/longbridge/tensorflow3/venv3/lib/python3.6/site-packages/ipykernel_launcher.py:29: SettingWithCopyWarning: \n",
      "A value is trying to be set on a copy of a slice from a DataFrame\n",
      "\n",
      "See the caveats in the documentation: http://pandas.pydata.org/pandas-docs/stable/indexing.html#indexing-view-versus-copy\n"
     ]
    },
    {
     "name": "stdout",
     "output_type": "stream",
     "text": [
      "5 Yrs\n",
      "5\n",
      "4 Yrs\n",
      "4\n",
      "2 years\n",
      "2\n",
      "8 Yrs\n",
      "8\n",
      "2 Yrs\n",
      "2\n",
      "4 years\n",
      "4\n",
      "1 Yrs\n",
      "1\n",
      "9 years\n",
      "9\n",
      "2 Yrs\n",
      "2\n",
      "10 Yrs\n",
      "10\n",
      "10 Yrs\n",
      "10\n",
      "4 Yrs\n",
      "4\n",
      "9 Years\n",
      "9\n",
      "1 Yr\n",
      "1\n",
      "10 Yrs\n",
      "10\n",
      "14 Yrs\n",
      "14\n",
      "30 Years\n",
      "30\n",
      "20 Yrs\n",
      "20\n",
      "3 Yrs\n",
      "3\n",
      "2 Yrs\n",
      "2\n",
      "4 Yrs\n",
      "4\n",
      "4 Yrs\n",
      "4\n",
      "1 Yrs\n",
      "1\n",
      "2 Yrs\n",
      "2\n",
      "10 Yrs\n",
      "10\n",
      "5 yrs\n",
      "5\n",
      "1 YEAR\n",
      "1\n"
     ]
    },
    {
     "name": "stderr",
     "output_type": "stream",
     "text": [
      "/home/longbridge/tensorflow3/venv3/lib/python3.6/site-packages/ipykernel_launcher.py:49: SettingWithCopyWarning: \n",
      "A value is trying to be set on a copy of a slice from a DataFrame\n",
      "\n",
      "See the caveats in the documentation: http://pandas.pydata.org/pandas-docs/stable/indexing.html#indexing-view-versus-copy\n"
     ]
    },
    {
     "name": "stdout",
     "output_type": "stream",
     "text": [
      "1 YEAR\n",
      "1\n",
      "1 YEAR\n",
      "1\n",
      "1 YEAR\n",
      "1\n",
      "26 YEARS\n",
      "26\n",
      "1 YEARS\n",
      "1\n",
      "4 years\n",
      "4\n",
      "3 years\n",
      "3\n",
      "2 years\n",
      "2\n",
      "6 years\n",
      "6\n",
      "3 years\n",
      "3\n",
      "3 years\n",
      "3\n",
      "10 years\n",
      "10\n",
      "2 years\n",
      "2\n",
      "12 years\n",
      "12\n",
      "10 years\n",
      "10\n",
      "10 years\n",
      "10\n",
      "7 years\n",
      "7\n",
      "5 years\n",
      "5\n",
      "4 years\n",
      "4\n",
      "4 years\n",
      "4\n",
      "8 years\n",
      "8\n",
      "2 years\n",
      "2\n",
      "2 years\n",
      "2\n",
      "17 years\n",
      "17\n",
      "4 Years\n",
      "4\n",
      "5 Years\n",
      "5\n",
      "9 Years\n",
      "9\n",
      "10 Years\n",
      "10\n",
      "20 Years\n",
      "20\n",
      "1 Year\n",
      "1\n",
      "7 Years\n",
      "7\n",
      "1 Year\n",
      "1\n",
      "4 Years\n",
      "4\n",
      "5 Years\n",
      "5\n",
      "6 Years\n",
      "6\n",
      "15 Years\n",
      "15\n",
      "10 Years\n",
      "10\n",
      "4 Years\n",
      "4\n",
      "7 Years\n",
      "7\n",
      "2 Years\n",
      "2\n",
      "10 Years\n",
      "10\n",
      "2 Years\n",
      "2\n",
      "12 Years\n",
      "12\n",
      "8 Years\n",
      "8\n",
      "40 Years\n",
      "40\n",
      "2 Years\n",
      "2\n",
      "21 Years\n",
      "21\n",
      "5 Years\n",
      "5\n",
      "10 Years\n",
      "10\n",
      "48 Years\n",
      "48\n",
      "7 Years\n",
      "7\n"
     ]
    },
    {
     "name": "stderr",
     "output_type": "stream",
     "text": [
      "/home/longbridge/tensorflow3/venv3/lib/python3.6/site-packages/ipykernel_launcher.py:40: SettingWithCopyWarning: \n",
      "A value is trying to be set on a copy of a slice from a DataFrame\n",
      "\n",
      "See the caveats in the documentation: http://pandas.pydata.org/pandas-docs/stable/indexing.html#indexing-view-versus-copy\n",
      "/home/longbridge/tensorflow3/venv3/lib/python3.6/site-packages/ipykernel_launcher.py:45: SettingWithCopyWarning: \n",
      "A value is trying to be set on a copy of a slice from a DataFrame\n",
      "\n",
      "See the caveats in the documentation: http://pandas.pydata.org/pandas-docs/stable/indexing.html#indexing-view-versus-copy\n"
     ]
    },
    {
     "name": "stdout",
     "output_type": "stream",
     "text": [
      "2.5 Years\n",
      "3 Years\n",
      "3\n",
      "1 Year\n",
      "1\n",
      "7 Years in Jakande, 3 Years in Aro\n",
      "7\n",
      "2 Years\n",
      "2\n",
      "2 Years\n",
      "2\n",
      "7 Years\n",
      "7\n",
      "5 Years\n",
      "5\n",
      "1 Year\n",
      "1\n",
      "1 Year\n",
      "1\n",
      "1 Year\n",
      "1\n",
      "2 Years\n",
      "2\n",
      "6 Year\n",
      "6\n",
      "6 Years\n",
      "6\n",
      "1 Year\n",
      "1\n",
      "2 Years\n",
      "2\n",
      "1 Year\n",
      "1\n",
      "15 Years\n",
      "15\n",
      "3 Years\n",
      "3\n",
      "2 Years\n",
      "2\n",
      "1.6 Months\n",
      "18 Years\n",
      "18\n",
      "7 Years\n",
      "7\n",
      "2 Years\n",
      "2\n",
      "2 Years\n",
      "2\n",
      "5 Years\n",
      "5\n",
      "3 Years\n",
      "3\n",
      "2 Years\n",
      "2\n",
      "19 Years\n",
      "19\n",
      "5 Years\n",
      "5\n",
      "2 Years\n",
      "2\n",
      "4 Years\n",
      "4\n",
      "2 Years\n",
      "2\n",
      "6 Years\n",
      "6\n",
      "4 Years\n",
      "4\n",
      "4 Years\n",
      "4\n",
      "3 Years\n",
      "3\n",
      "3 Years\n",
      "3\n",
      "2 Years\n",
      "2\n",
      "2 Years\n",
      "2\n",
      "20 Years\n",
      "20\n",
      "30 Years\n",
      "30\n",
      "4 Years\n",
      "4\n",
      "2 Years\n",
      "2\n",
      "5 Years\n",
      "5\n",
      "10 Years\n",
      "10\n",
      "4 Years\n",
      "4\n",
      "1 Year\n",
      "1\n",
      "3 Years\n",
      "3\n",
      "3 Years\n",
      "3\n",
      "1 Years\n",
      "1\n",
      "1 Year\n",
      "1\n",
      "5 Years\n",
      "5\n",
      "1 Year\n",
      "1\n",
      "4 Years\n",
      "4\n",
      "3 Years\n",
      "3\n",
      "2 Years\n",
      "2\n",
      "2 Years\n",
      "2\n",
      "4 Years\n",
      "4\n",
      "3 years\n",
      "3\n",
      "1 year\n",
      "1\n",
      "5 yrs\n",
      "5\n",
      "4 Yrs\n",
      "4\n",
      "27 Yrs\n",
      "27\n",
      "4 Yrs\n",
      "4\n",
      "28 Yrs\n",
      "28\n",
      "20 Yrs\n",
      "20\n",
      "6 Yrs\n",
      "6\n",
      "10 Yrs\n",
      "10\n",
      "2 Yrs\n",
      "2\n",
      "6 Yrs\n",
      "6\n",
      "1 Yr\n",
      "1\n",
      "1 Yr\n",
      "1\n",
      "1 Yr\n",
      "1\n",
      "3 Yrs\n",
      "3\n",
      "5 Yrs\n",
      "5\n",
      "5 Yrs\n",
      "5\n",
      "1 Yrs\n",
      "1\n",
      "8 Yrs\n",
      "8\n",
      "14 Yrs\n",
      "14\n",
      "1 Yr\n",
      "1\n",
      "1 Yrs\n",
      "1\n",
      "20 Yrs\n",
      "20\n",
      "7 Yrs\n",
      "7\n",
      "1 Yr\n",
      "1\n",
      "60 Yrs\n",
      "60\n",
      "20 Yrs\n",
      "20\n",
      "5 Yrs\n",
      "5\n",
      "1 Yr\n",
      "1\n",
      "1 Yr\n",
      "1\n",
      "4 Yrs\n",
      "4\n",
      "15 Yrs\n",
      "15\n",
      "1 Yr\n",
      "1\n",
      "16 Yrs\n",
      "16\n",
      "10 Yrs\n",
      "10\n",
      "6 Yrs\n",
      "6\n",
      "7 Yrs\n",
      "7\n",
      "3 Yrs\n",
      "3\n",
      "5 Yrs\n",
      "5\n",
      "5 Yrs\n",
      "5\n",
      "16 Yrs\n",
      "16\n",
      "3 Yrs\n",
      "3\n",
      "15 Yrs\n",
      "15\n",
      "1 yr\n",
      "1\n",
      "2 Yrs\n",
      "2\n",
      "5 Yrs\n",
      "5\n",
      "8 Yrs\n",
      "8\n",
      "5 Yrs\n",
      "5\n",
      "16 Yrs\n",
      "16\n",
      "12 Yrs\n",
      "12\n",
      "5 Yrs\n",
      "5\n",
      "18 Yrs\n",
      "18\n",
      "20 Yrs\n",
      "20\n",
      "7 Yrs\n",
      "7\n",
      "7 Yrs\n",
      "7\n",
      "1 Yr\n",
      "1\n",
      "3 Yrs\n",
      "3\n",
      "23 Yrs\n",
      "23\n",
      "11 Yrs\n",
      "11\n",
      "3 Yrs\n",
      "3\n",
      "30 Yrs\n",
      "30\n",
      "10 Yrs\n",
      "10\n",
      "7 Yrs\n",
      "7\n",
      "10 Yrs\n",
      "10\n",
      "10 Yrs\n",
      "10\n",
      "4 Yrs\n",
      "4\n",
      "10 Yrs\n",
      "10\n",
      "5 Yrs\n",
      "5\n",
      "6 Yrs\n",
      "6\n",
      "18 Yrs\n",
      "18\n",
      "8 YEARS\n",
      "8\n",
      "4 YEARS\n",
      "4\n",
      "3 YEARS\n",
      "3\n",
      "1 YEAR\n",
      "1\n",
      "2 YEARS\n",
      "2\n",
      "4 YEARS\n",
      "4\n",
      "3 YEARS\n",
      "3\n",
      "1 YEAR\n",
      "1\n",
      "2 YEARS\n",
      "2\n",
      "6 YEARS\n",
      "6\n",
      "2 YEARS\n",
      "2\n",
      "3 YEARS\n",
      "3\n",
      "4 YEARS\n",
      "4\n",
      "2 YEARS\n",
      "2\n",
      "3 YEARS\n",
      "3\n",
      "1 YEARS\n",
      "1\n",
      "4 YEARS\n",
      "4\n",
      "9 YEARS\n",
      "9\n",
      "4 YEARS\n",
      "4\n",
      "20 YEARS\n",
      "20\n",
      "10 YEARS\n",
      "10\n",
      "5 YEARS\n",
      "5\n",
      "3 YEARS\n",
      "3\n",
      "15 YEARS\n",
      "15\n",
      "20 YEARS\n",
      "20\n",
      "1 YEAR\n",
      "1\n",
      "8 YEARS\n",
      "8\n",
      "1 YEAR\n",
      "1\n",
      "2 YEARS\n",
      "2\n",
      "4 YEARS\n",
      "4\n",
      "3 YEARS\n",
      "3\n",
      "6 YEARS\n",
      "6\n",
      "28 YEARS\n",
      "28\n",
      "28 YEARS\n",
      "28\n",
      "2 YEARS\n",
      "2\n",
      "8 YEARS\n",
      "8\n",
      "30 YEARS\n",
      "30\n",
      "15 YEARS\n",
      "15\n",
      "23 YEARS\n",
      "23\n",
      "5 YEARS\n",
      "5\n",
      "17 YEARS\n",
      "17\n",
      "5 YEARS\n",
      "5\n",
      "3 YEARS\n",
      "3\n",
      "5 YEARS\n",
      "5\n",
      "17 YEARS\n",
      "17\n",
      "17 YEARS\n",
      "17\n",
      "25 YEARS\n",
      "25\n",
      "17 YEARS\n",
      "17\n",
      "2 YEARS\n",
      "2\n",
      "3 YEARS\n",
      "3\n",
      "2 YEARS\n",
      "2\n",
      "2018 years\n",
      "2018\n",
      "10 Years\n",
      "10\n",
      "10 Years\n",
      "10\n",
      "10 Years\n",
      "10\n",
      "4 Years\n",
      "4\n",
      "10 Years\n",
      "10\n",
      "11 Years\n",
      "11\n",
      "10 Years\n",
      "10\n",
      "7 Years\n",
      "7\n",
      "5 Years\n",
      "5\n",
      "4 Years\n",
      "4\n",
      "4 Years\n",
      "4\n",
      "8 Years\n",
      "8\n",
      "1 Year\n",
      "1\n",
      "6 Years\n",
      "6\n",
      "30 Years\n",
      "30\n",
      "20 Years\n",
      "20\n",
      "17 Years\n",
      "17\n",
      "7 Years\n",
      "7\n",
      "15 Years\n",
      "15\n",
      "3 Years\n",
      "3\n",
      "19 Years\n",
      "19\n",
      "1 Year\n",
      "1\n",
      "10 Years\n",
      "10\n",
      "20 Years\n",
      "20\n",
      "10 Years\n",
      "10\n",
      "2 Years\n",
      "2\n",
      "11 Years\n",
      "11\n",
      "2 Years\n",
      "2\n",
      "30 Years\n",
      "30\n",
      "12 Years\n",
      "12\n",
      "21 Years\n",
      "21\n",
      "6 Years\n",
      "6\n",
      "28 Years\n",
      "28\n",
      "5 Years\n",
      "5\n",
      "2 Years\n",
      "2\n",
      "30 Years\n",
      "30\n",
      "20 Years\n",
      "20\n",
      "21 Years\n",
      "21\n",
      "6 Years\n",
      "6\n",
      "15 years\n",
      "15\n",
      "2 Years\n",
      "2\n",
      "10 Years\n",
      "10\n",
      "8 Years\n",
      "8\n",
      "3 Years\n",
      "3\n",
      "4 Years\n",
      "4\n",
      "8 Years\n",
      "8\n",
      "6 Years\n",
      "6\n",
      "5 Years\n",
      "5\n",
      "20 Years\n",
      "20\n",
      "5 Years\n",
      "5\n",
      "20 Years\n",
      "20\n",
      "4 Years\n",
      "4\n",
      "2 Years\n",
      "2\n",
      "15 Years\n",
      "15\n",
      "16 Years\n",
      "16\n",
      "23 Years\n",
      "23\n",
      "1 Year\n",
      "1\n",
      "1 Year\n",
      "1\n",
      "12 Years\n",
      "12\n",
      "18 Years\n",
      "18\n",
      "22 Years\n",
      "22\n",
      "8 Years\n",
      "8\n",
      "8 Years\n",
      "8\n",
      "26 Years\n",
      "26\n",
      "10 Years\n",
      "10\n",
      "17 Years\n",
      "17\n",
      "28 Year\n",
      "28\n",
      "28 Years\n",
      "28\n",
      "10 Years\n",
      "10\n",
      "2 Years\n",
      "2\n",
      "2 Years\n",
      "2\n",
      "5 Years\n",
      "5\n",
      "7 Years\n",
      "7\n",
      "40 Years\n",
      "40\n",
      "6 Years\n",
      "6\n",
      "15 Years\n",
      "15\n",
      "20 Years\n",
      "20\n",
      "10 years\n",
      "10\n",
      "5 Years\n",
      "5\n",
      "10 Years\n",
      "10\n",
      "2 Years\n",
      "2\n",
      "30 Years\n",
      "30\n",
      "35 Years\n",
      "35\n",
      "17 Years\n",
      "17\n",
      "3 Years\n",
      "3\n",
      "5 Years\n",
      "5\n",
      "5 years\n",
      "5\n",
      "3 Years\n",
      "3\n",
      "20 Years\n",
      "20\n",
      "6 Years\n",
      "6\n",
      "20 Years\n",
      "20\n",
      "2 years\n",
      "2\n",
      "25 Years\n",
      "25\n",
      "3 Years\n",
      "3\n",
      "2 Years\n",
      "2\n",
      "4 Years\n",
      "4\n",
      "25 Years\n",
      "25\n",
      "5 Years\n",
      "5\n",
      "2 Years\n",
      "2\n",
      "3 Years\n",
      "3\n",
      "5 Years\n",
      "5\n",
      "5 Years\n",
      "5\n",
      "4 Years\n",
      "4\n",
      "18 years\n",
      "18\n",
      "18 years\n",
      "18\n",
      "12 years\n",
      "12\n",
      "1 year\n",
      "1\n",
      "6 Years\n",
      "6\n",
      "4 years\n",
      "4\n",
      "2 years\n",
      "2\n",
      "2 years\n",
      "2\n",
      "2 years\n",
      "2\n",
      "6 years\n",
      "6\n",
      "13 years\n",
      "13\n",
      "16 years\n",
      "16\n",
      "18 years\n",
      "18\n",
      "12 years\n",
      "12\n",
      "2 years\n",
      "2\n",
      "2 years\n",
      "2\n",
      "4 years\n",
      "4\n",
      "3 years\n",
      "3\n",
      "4 years\n",
      "4\n",
      "10 years\n",
      "10\n"
     ]
    }
   ],
   "source": [
    "import math\n",
    "dep = []\n",
    "for i,x in enumerate(drop_data[\"HLC\"]):\n",
    "    \n",
    "    if mon.match(x.strip()):\n",
    "        yr = int(x.strip().split(\" \")[0])/12\n",
    "        drop_data[\"HLC\"][i] = str(float(\"%.2f\" %yr))\n",
    "        \n",
    "    elif year.match(x.strip()):\n",
    "        yr = str((2018 -  int(x)))\n",
    "        drop_data[\"HLC\"][i] = yr\n",
    "        \n",
    "    elif m_y.match(str(x.strip())):\n",
    "        print(x)\n",
    "        yr = x.strip().split(\" \")[0]\n",
    "        print(yr)\n",
    "        drop_data[\"HLC\"][i] = yr\n",
    "        \n",
    "    elif len(x) <2:\n",
    "        yr = None\n",
    "        if x ==\"0\":\n",
    "            yr = 1/12\n",
    "        else:\n",
    "            c =math.floor(float(x)) \n",
    "            yr = int(c)/12\n",
    "        drop_data[\"HLC\"][i] = str(float(\"%.2f\" %yr))\n",
    "        \n",
    "    elif w_d.match(x.strip()):\n",
    "        drop_data[\"HLC\"][i] = \"30\"\n",
    "        \n",
    "    elif \"+\" in x.strip():\n",
    "        yr = x.strip().split(\"+\")[0]\n",
    "        drop_data[\"HLC\"][i] = yr\n",
    "        \n",
    "    elif w_d.match(x.strip()):\n",
    "        drop_data[\"HLC\"][i] = \"30\"\n",
    "        \n",
    "    elif s_d.match(x.strip()):\n",
    "        yr = x.strip().split(\" \")[0].split(\"-\")[1]\n",
    "        drop_data[\"HLC\"][i] = yr\n",
    "        \n",
    "    elif d_d.match(x.strip()):\n",
    "        print(x)\n",
    "        yr = x.strip().split(\" \")[0]\n",
    "        drop_data[\"HLC\"][i] = yr\n",
    "        \n",
    "    elif a_d.match(x.strip()):\n",
    "        \n",
    "        drop_data[\"HLC\"][i] =  x[0]\n",
    "        \n",
    "    else:\n",
    "        dep.append(x)"
   ]
  },
  {
   "cell_type": "code",
   "execution_count": 631,
   "metadata": {},
   "outputs": [
    {
     "data": {
      "text/plain": [
       "<_sre.SRE_Match object; span=(0, 7), match='3 month'>"
      ]
     },
     "execution_count": 631,
     "metadata": {},
     "output_type": "execute_result"
    }
   ],
   "source": [
    "mon.match(\"3 months\")"
   ]
  },
  {
   "cell_type": "code",
   "execution_count": 629,
   "metadata": {},
   "outputs": [
    {
     "data": {
      "text/plain": [
       "['Nil', '10', '10', '3  Yrs', 'ONE MONTH', '10']"
      ]
     },
     "execution_count": 629,
     "metadata": {},
     "output_type": "execute_result"
    }
   ],
   "source": [
    "dep"
   ]
  },
  {
   "cell_type": "code",
   "execution_count": 630,
   "metadata": {},
   "outputs": [
    {
     "name": "stdout",
     "output_type": "stream",
     "text": [
      "0            29\n",
      "1             6\n",
      "2             2\n",
      "3           0.5\n",
      "4          0.75\n",
      "5          0.17\n",
      "6             8\n",
      "7             2\n",
      "9            20\n",
      "10            1\n",
      "12         0.08\n",
      "13            3\n",
      "14            9\n",
      "16         0.25\n",
      "17            9\n",
      "20            3\n",
      "21     3 months\n",
      "22           10\n",
      "27            5\n",
      "32           25\n",
      "34         0.58\n",
      "35            4\n",
      "36       10 Yrs\n",
      "37            2\n",
      "38            8\n",
      "40            4\n",
      "41         0.42\n",
      "42         0.75\n",
      "43            1\n",
      "44            9\n",
      "         ...   \n",
      "407           1\n",
      "409        0.25\n",
      "410          18\n",
      "411          22\n",
      "412           8\n",
      "413           8\n",
      "414          26\n",
      "415          10\n",
      "416          17\n",
      "420           2\n",
      "421           2\n",
      "423           7\n",
      "424          40\n",
      "425           6\n",
      "427          20\n",
      "431           2\n",
      "438           3\n",
      "440           6\n",
      "441          20\n",
      "442           2\n",
      "443          25\n",
      "447          25\n",
      "449           2\n",
      "457          18\n",
      "471           2\n",
      "472           2\n",
      "473           4\n",
      "474           3\n",
      "475           4\n",
      "476          10\n",
      "Name: HLC, Length: 654, dtype: object\n"
     ]
    }
   ],
   "source": [
    "print(drop_data[\"HLC\"])"
   ]
  },
  {
   "cell_type": "code",
   "execution_count": 422,
   "metadata": {},
   "outputs": [
    {
     "data": {
      "text/plain": [
       "0.56"
      ]
     },
     "execution_count": 422,
     "metadata": {},
     "output_type": "execute_result"
    }
   ],
   "source": [
    "float(\"%.2f\" %0.556)"
   ]
  },
  {
   "cell_type": "code",
   "execution_count": null,
   "metadata": {},
   "outputs": [],
   "source": []
  }
 ],
 "metadata": {
  "kernelspec": {
   "display_name": "Python 3",
   "language": "python",
   "name": "python3"
  },
  "language_info": {
   "codemirror_mode": {
    "name": "ipython",
    "version": 3
   },
   "file_extension": ".py",
   "mimetype": "text/x-python",
   "name": "python",
   "nbconvert_exporter": "python",
   "pygments_lexer": "ipython3",
   "version": "3.6.5"
  }
 },
 "nbformat": 4,
 "nbformat_minor": 2
}
